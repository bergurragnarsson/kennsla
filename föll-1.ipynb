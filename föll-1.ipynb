{
 "cells": [
  {
   "cell_type": "code",
   "execution_count": 1,
   "metadata": {
    "collapsed": true
   },
   "outputs": [],
   "source": [
    "#\n",
    "# skilgreina fall og teikna\n",
    "#"
   ]
  },
  {
   "cell_type": "code",
   "execution_count": 2,
   "metadata": {
    "collapsed": false
   },
   "outputs": [],
   "source": [
    "%matplotlib inline\n",
    "import sympy\n",
    "from sympy import symbols, sin, cos\n",
    "sympy.init_printing(use_latex='mathjax')\n",
    "\n",
    "x, y, z = symbols('x y z')\n",
    "\n",
    "# athugið að x, y og z eru núna frátekin til að skilgreina föll\n"
   ]
  },
  {
   "cell_type": "code",
   "execution_count": 3,
   "metadata": {
    "collapsed": false
   },
   "outputs": [
    {
     "data": {
      "text/latex": [
       "$$- x^{2} + 4 x + 2$$"
      ],
      "text/plain": [
       "   2          \n",
       "- x  + 4⋅x + 2"
      ]
     },
     "execution_count": 3,
     "metadata": {},
     "output_type": "execute_result"
    }
   ],
   "source": [
    "# Skilgreinum fallið 'f'\n",
    "f=-x**2+4*x+2\n",
    "\n",
    "# skoðum f:\n",
    "f"
   ]
  },
  {
   "cell_type": "code",
   "execution_count": 4,
   "metadata": {
    "collapsed": false
   },
   "outputs": [
    {
     "name": "stdout",
     "output_type": "stream",
     "text": [
      "f af 0 =  2.0\n",
      "f af 1 =  5.0\n"
     ]
    }
   ],
   "source": [
    "# reiknum f fyrir nokkur gildi á x\n",
    "\n",
    "# fx setur tölu inn í symbólisku jöfnuna og reiknar\n",
    "fx = lambda tala: float(f.evalf(subs=dict(x=tala)))\n",
    "\n",
    "print(\"f af 0 = \",fx(0))\n",
    "print(\"f af 1 = \",fx(1))"
   ]
  },
  {
   "cell_type": "code",
   "execution_count": 5,
   "metadata": {
    "collapsed": false
   },
   "outputs": [
    {
     "name": "stdout",
     "output_type": "stream",
     "text": [
      "x       y\n",
      "  -1.0    -3.0\n",
      "  -0.7    -1.2\n",
      "  -0.4     0.4\n",
      "  -0.1     1.8\n",
      "   0.3     3.0\n",
      "   0.6     4.0\n",
      "   0.9     4.8\n",
      "   1.2     5.4\n",
      "   1.5     5.8\n",
      "   1.8     6.0\n",
      "   2.2     6.0\n",
      "   2.5     5.8\n",
      "   2.8     5.4\n",
      "   3.1     4.8\n",
      "   3.4     4.0\n",
      "   3.7     3.0\n",
      "   4.1     1.8\n",
      "   4.4     0.4\n",
      "   4.7    -1.2\n",
      "   5.0    -3.0\n"
     ]
    }
   ],
   "source": [
    "# reiknum f fyrir mörg x gildi\n",
    "import numpy\n",
    "xgildi = list(numpy.linspace(-1, 5, 20))\n",
    "ygildi = [fx(x) for x in xgildi]\n",
    "\n",
    "import pandas\n",
    "df = pandas.DataFrame({'x' : xgildi, 'y' : ygildi})\n",
    "print(df.to_string(index=False, float_format='%7.1f'))\n"
   ]
  },
  {
   "cell_type": "code",
   "execution_count": 6,
   "metadata": {
    "collapsed": false
   },
   "outputs": [
    {
     "data": {
      "image/png": "[encoded data removed]",
      "text/plain": [
       "<matplotlib.figure.Figure at 0x22d20385518>"
      ]
     },
     "metadata": {},
     "output_type": "display_data"
    }
   ],
   "source": [
    "# teiknum fallið, bara punkta\n",
    "import matplotlib.pyplot as plt\n",
    "\n",
    "plt.plot(xgildi, ygildi, marker='o', linestyle='')\n",
    "plt.grid(True)\n",
    "plt.show()"
   ]
  }
 ],
 "metadata": {
  "kernelspec": {
   "display_name": "Python 3",
   "language": "python",
   "name": "python3"
  },
  "language_info": {
   "codemirror_mode": {
    "name": "ipython",
    "version": 3
   },
   "file_extension": ".py",
   "mimetype": "text/x-python",
   "name": "python",
   "nbconvert_exporter": "python",
   "pygments_lexer": "ipython3",
   "version": "3.5.1"
  }
 },
 "nbformat": 4,
 "nbformat_minor": 0
}
