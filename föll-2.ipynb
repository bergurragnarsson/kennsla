{
 "cells": [
  {
   "cell_type": "code",
   "execution_count": 1,
   "metadata": {
    "collapsed": true
   },
   "outputs": [],
   "source": [
    "#\n",
    "# Heildun\n",
    "#"
   ]
  },
  {
   "cell_type": "code",
   "execution_count": 2,
   "metadata": {
    "collapsed": false
   },
   "outputs": [],
   "source": [
    "%matplotlib inline\n",
    "import sympy\n",
    "from sympy import symbols, diff, integrate, sin, cos\n",
    "sympy.init_printing(use_latex='mathjax')\n",
    "\n",
    "x, y, z = symbols('x y z')\n",
    "\n",
    "# athugið að x, y og z eru núna frátekin til að skilgreina föll\n"
   ]
  },
  {
   "cell_type": "code",
   "execution_count": 3,
   "metadata": {
    "collapsed": false
   },
   "outputs": [
    {
     "data": {
      "text/latex": [
       "$$- x^{2} + 4 x + 2$$"
      ],
      "text/plain": [
       "   2          \n",
       "- x  + 4⋅x + 2"
      ]
     },
     "execution_count": 3,
     "metadata": {},
     "output_type": "execute_result"
    }
   ],
   "source": [
    "# Skilgreinum fallið 'f'\n",
    "f=-x**2+4*x+2\n",
    "\n",
    "# skoðum f:\n",
    "f"
   ]
  },
  {
   "cell_type": "code",
   "execution_count": 4,
   "metadata": {
    "collapsed": false
   },
   "outputs": [
    {
     "data": {
      "text/latex": [
       "$$- \\frac{x^{3}}{3} + 2 x^{2} + 2 x$$"
      ],
      "text/plain": [
       "   3             \n",
       "  x       2      \n",
       "- ── + 2⋅x  + 2⋅x\n",
       "  3              "
      ]
     },
     "execution_count": 4,
     "metadata": {},
     "output_type": "execute_result"
    }
   ],
   "source": [
    "# heildum fallið\n",
    "F=integrate(f)\n",
    "\n",
    "F"
   ]
  },
  {
   "cell_type": "code",
   "execution_count": 5,
   "metadata": {
    "collapsed": false
   },
   "outputs": [
    {
     "name": "stdout",
     "output_type": "stream",
     "text": [
      "F_af_x  f_af_x       x\n",
      "   0.3    -3.0    -1.0\n",
      "  -0.3    -1.2    -0.7\n",
      "  -0.4     0.4    -0.4\n",
      "  -0.1     1.8    -0.1\n",
      "   0.7     3.0     0.3\n",
      "   1.8     4.0     0.6\n",
      "   3.2     4.8     0.9\n",
      "   4.8     5.4     1.2\n",
      "   6.5     5.8     1.5\n",
      "   8.4     6.0     1.8\n",
      "  10.3     6.0     2.2\n",
      "  12.1     5.8     2.5\n",
      "  13.9     5.4     2.8\n",
      "  15.5     4.8     3.1\n",
      "  16.9     4.0     3.4\n",
      "  18.0     3.0     3.7\n",
      "  18.8     1.8     4.1\n",
      "  19.1     0.4     4.4\n",
      "  19.0    -1.2     4.7\n",
      "  18.3    -3.0     5.0\n"
     ]
    }
   ],
   "source": [
    "import numpy\n",
    "# reiknum f fyrir nokkur gildi á x\n",
    "xgildi = list(numpy.linspace(-1, 5, 20))\n",
    "\n",
    "def reikna(f, tala):\n",
    "    return float(f.evalf(subs=dict(x=tala)))\n",
    "\n",
    "f_gildi = [reikna(f,x) for x in xgildi]\n",
    "F_gildi = [reikna(F, x) for x in xgildi]\n",
    "\n",
    "import pandas\n",
    "df = pandas.DataFrame({'x' : xgildi, 'f_af_x' : f_gildi, 'F_af_x': F_gildi})\n",
    "print(df.to_string(index=False, float_format='%7.1f'))"
   ]
  },
  {
   "cell_type": "code",
   "execution_count": 6,
   "metadata": {
    "collapsed": false
   },
   "outputs": [
    {
     "data": {
      "image/png": "[encoded data removed]",
      "text/plain": [
       "<matplotlib.figure.Figure at 0x22e94c20940>"
      ]
     },
     "metadata": {},
     "output_type": "display_data"
    }
   ],
   "source": [
    "# teiknum fallið, bara punkta\n",
    "import matplotlib.pyplot as plt\n",
    "plt.subplot(2, 1, 1)\n",
    "\n",
    "plt.plot(xgildi, f_gildi, marker='o', linestyle='')\n",
    "plt.ylabel('f')\n",
    "plt.grid(True)\n",
    "\n",
    "plt.subplot(2, 1, 2)\n",
    "plt.plot(xgildi, F_gildi, marker='o', linestyle='')\n",
    "plt.ylabel('F')\n",
    "plt.grid(True)\n",
    "\n",
    "plt.show()"
   ]
  }
 ],
 "metadata": {
  "kernelspec": {
   "display_name": "Python 3",
   "language": "python",
   "name": "python3"
  },
  "language_info": {
   "codemirror_mode": {
    "name": "ipython",
    "version": 3
   },
   "file_extension": ".py",
   "mimetype": "text/x-python",
   "name": "python",
   "nbconvert_exporter": "python",
   "pygments_lexer": "ipython3",
   "version": "3.5.1"
  }
 },
 "nbformat": 4,
 "nbformat_minor": 0
}
